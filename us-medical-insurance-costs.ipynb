{
 "cells": [
  {
   "cell_type": "markdown",
   "metadata": {},
   "source": [
    "# U.S. Medical Insurance Costs"
   ]
  },
  {
   "cell_type": "markdown",
   "metadata": {},
   "source": [
    "### Project scope\n",
    "In this project we analyze data of US medical insurance cost of several individuals regarding their age, sex, BMI and smoking habits. Insurance cost is calculated by companies based on risk assessment associated on factors such the ones previous referred. In this study we want to find insights in how each factor impact the insurance cost and if there are any biased assessments that are based mainly on societal stereotypes or other biases based on non-updated data, rather than scientific facts. "
   ]
  },
  {
   "cell_type": "code",
   "execution_count": 1,
   "metadata": {},
   "outputs": [],
   "source": [
    "#importing data from the csv file\n",
    "#the data are imported in lists for each feautre\n",
    "import csv\n",
    "import statistics\n",
    "def retrieve_data(data_list, csv_file, feature):\n",
    "    with open(csv_file) as csv_file:\n",
    "        file_data=csv.DictReader(csv_file)\n",
    "        for row in file_data:\n",
    "            data_list.append(row[feature])\n",
    "    return data_list\n",
    "age=[]\n",
    "sex=[]\n",
    "bmi=[]\n",
    "num_of_children=[]\n",
    "smoking_habits=[]\n",
    "region=[]\n",
    "insurance_cost=[]"
   ]
  },
  {
   "cell_type": "markdown",
   "metadata": {},
   "source": [
    "### Analyzing the age of the study group"
   ]
  },
  {
   "cell_type": "code",
   "execution_count": 2,
   "metadata": {},
   "outputs": [
    {
     "name": "stdout",
     "output_type": "stream",
     "text": [
      "The data analyzed are from 1338 individuals.\n",
      "The average age is 39.2.\n",
      "The minimum age is 18 and there are 69 individuals of that age.\n",
      "The maximum age is 64 and there are 22 individuals of that age.\n",
      "The median age is 39.0 and there are 975 individuals of that age\n",
      "The average cost for 18 years old persons is 7086.22.\n",
      "The average cost for 64 years old persons is 23275.53.\n"
     ]
    }
   ],
   "source": [
    "retrieve_data(age, \"insurance.csv\", \"age\")\n",
    "total_age=0\n",
    "count_min_age=0\n",
    "count_max_age=0\n",
    "count_median_age=0\n",
    "updated_age=[]\n",
    "for curr_age in age:\n",
    "    updated_age.append(int(curr_age))\n",
    "    total_age+=int(curr_age)\n",
    "    if curr_age==min(age):\n",
    "        count_min_age+=1\n",
    "    if curr_age==max(age):\n",
    "        count_max_age+=1\n",
    "for curr_age in updated_age:\n",
    "    if curr_age==statistics.median(updated_age):\n",
    "        count_median_age+=curr_age\n",
    "average_age=total_age/len(age)\n",
    "print(\"The data analyzed are from {} individuals.\".format(len(age)))\n",
    "print(\"The average age is {}.\".format(round(average_age, 1)))\n",
    "print(\"The minimum age is {} and there are {} individuals of that age.\".format(min(age), count_min_age))\n",
    "print(\"The maximum age is {} and there are {} individuals of that age.\".format(max(age), count_max_age))\n",
    "print(\"The median age is {} and there are {} individuals of that age\".format(statistics.median(updated_age), count_median_age))\n",
    "tot_cost_for_min_age=0\n",
    "tot_cost_for_max_age=0\n",
    "with open(\"insurance.csv\") as insurance_csv:\n",
    "    insurance_data=csv.DictReader(insurance_csv)\n",
    "    for row in insurance_data:\n",
    "        if row[\"age\"]==min(age):\n",
    "            tot_cost_for_min_age+=float(row[\"charges\"])\n",
    "        if row[\"age\"]==max(age):\n",
    "            tot_cost_for_max_age+=float(row[\"charges\"])\n",
    "average_cost_for_min_age=tot_cost_for_min_age/count_min_age\n",
    "average_cost_for_max_age=tot_cost_for_max_age/count_max_age\n",
    "print(\"The average cost for {} years old persons is {}.\".format(min(age), round(average_cost_for_min_age, 2)))\n",
    "print(\"The average cost for {} years old persons is {}.\".format(max(age), round(average_cost_for_max_age, 2)))"
   ]
  },
  {
   "cell_type": "markdown",
   "metadata": {},
   "source": [
    "### Analyzing the gender of the study group"
   ]
  },
  {
   "cell_type": "code",
   "execution_count": 3,
   "metadata": {},
   "outputs": [
    {
     "name": "stdout",
     "output_type": "stream",
     "text": [
      "In the data 662 persons are female and 676 are male.\n",
      "The average cost for males is 13956.75.\n",
      "The average cost for females is 12569.58.\n"
     ]
    }
   ],
   "source": [
    "tot_female=0\n",
    "tot_male=0\n",
    "for person in retrieve_data(sex, \"insurance.csv\", \"sex\"):\n",
    "    if person==\"female\":\n",
    "        tot_female+=1\n",
    "    else:\n",
    "        tot_male+=1\n",
    "print(\"In the data {} persons are female and {} are male.\".format(tot_female, tot_male))\n",
    "tot_cost_for_males=0\n",
    "tot_cost_for_females=0\n",
    "with open(\"insurance.csv\") as insurance_csv:\n",
    "    insurance_data=csv.DictReader(insurance_csv)\n",
    "    for row in insurance_data:\n",
    "        if row[\"sex\"]==\"male\":\n",
    "            tot_cost_for_males+=float(row[\"charges\"])\n",
    "        if row[\"sex\"]==\"female\":\n",
    "            tot_cost_for_females+=float(row[\"charges\"])\n",
    "average_cost_for_males=tot_cost_for_males/tot_male\n",
    "average_cost_for_females=tot_cost_for_females/tot_female\n",
    "print(\"The average cost for males is {}.\".format(round(average_cost_for_males, 2)))\n",
    "print(\"The average cost for females is {}.\".format(round(average_cost_for_females, 2)))"
   ]
  },
  {
   "cell_type": "markdown",
   "metadata": {},
   "source": [
    "### Analyzing smoking habits"
   ]
  },
  {
   "cell_type": "code",
   "execution_count": 4,
   "metadata": {},
   "outputs": [
    {
     "name": "stdout",
     "output_type": "stream",
     "text": [
      "There are 274 smokers in the data and the average cost for smokers is 32050.23.\n",
      "There are 1064 non-smokers in the data and the average cost for non-smokers is 8434.27.\n"
     ]
    }
   ],
   "source": [
    "tot_smokers=0\n",
    "tot_non_smokers=0\n",
    "for person in retrieve_data(smoking_habits, \"insurance.csv\", \"smoker\"):\n",
    "    if person==\"no\":\n",
    "        tot_non_smokers+=1\n",
    "    else:\n",
    "        tot_smokers+=1\n",
    "tot_cost_for_smokers=0\n",
    "tot_cost_for_non_smokers=0\n",
    "with open(\"insurance.csv\") as insurance_csv:\n",
    "    insurance_data=csv.DictReader(insurance_csv)\n",
    "    for row in insurance_data:\n",
    "        if row[\"smoker\"]==\"no\":\n",
    "            tot_cost_for_non_smokers+=float(row[\"charges\"])\n",
    "        if row[\"smoker\"]==\"yes\":\n",
    "            tot_cost_for_smokers+=float(row[\"charges\"])\n",
    "average_cost_for_smokers=tot_cost_for_smokers/tot_smokers\n",
    "average_cost_for_non_smokers=tot_cost_for_non_smokers/tot_non_smokers\n",
    "print(\"There are {} smokers in the data and the average cost for smokers is {}.\".format(tot_smokers, round(average_cost_for_smokers, 2)))\n",
    "print(\"There are {} non-smokers in the data and the average cost for non-smokers is {}.\".format(tot_non_smokers, round(average_cost_for_non_smokers, 2)))"
   ]
  },
  {
   "cell_type": "markdown",
   "metadata": {},
   "source": [
    "### Analyzing family status data"
   ]
  },
  {
   "cell_type": "code",
   "execution_count": 5,
   "metadata": {},
   "outputs": [
    {
     "name": "stdout",
     "output_type": "stream",
     "text": [
      "Unique values in data of number of children: [0, 1, 3, 2, 5, 4]\n",
      "574 individuals have no children.\n",
      "764 individuals have 1 or more children.\n",
      "There are 574 individuals who have 0 children.The average insurance cost of those individuals is 12365.98.\n",
      "There are 324 individuals who have 1 children.The average insurance cost of those individuals is 12731.17.\n",
      "There are 157 individuals who have 3 children.The average insurance cost of those individuals is 15355.32.\n",
      "There are 240 individuals who have 2 children.The average insurance cost of those individuals is 15073.56.\n",
      "There are 18 individuals who have 5 children.The average insurance cost of those individuals is 8786.04.\n",
      "There are 25 individuals who have 4 children.The average insurance cost of those individuals is 13850.66.\n"
     ]
    }
   ],
   "source": [
    "retrieve_data(num_of_children, \"insurance.csv\", \"children\")\n",
    "\n",
    "count_no_children=0\n",
    "count_with_children=0\n",
    "\n",
    "updated_children=[]\n",
    "unique_children=[]\n",
    "for num_child in num_of_children:\n",
    "    updated_children.append(int(num_child))\n",
    "for num_child in updated_children:\n",
    "    if num_child==0:\n",
    "        count_no_children+=1\n",
    "    else:\n",
    "        count_with_children+=1\n",
    "    if num_child not in unique_children:\n",
    "        unique_children.append(num_child)\n",
    "def calculate_average_cost(num_of_child):\n",
    "    tot_cost=0\n",
    "    count_incidents=0\n",
    "    with open(\"insurance.csv\") as insurance_csv:\n",
    "        insurance_data=csv.DictReader(insurance_csv)\n",
    "        for row in insurance_data:\n",
    "            if int(row[\"children\"])==num_of_child:\n",
    "                tot_cost+=float(row[\"charges\"])\n",
    "                count_incidents+=1\n",
    "        to_print=\"There are {} individuals who have {} children.The average insurance cost of those individuals is {}.\"\\\n",
    "    .format(count_incidents, num_of_child, round(tot_cost/count_incidents, 2))\n",
    "    return to_print\n",
    "            \n",
    "print(\"Unique values in data of number of children: {}\".format(unique_children))\n",
    "print(\"{} individuals have no children.\".format(count_no_children))\n",
    "print(\"{} individuals have 1 or more children.\".format(count_with_children))\n",
    "for number in unique_children:\n",
    "    print(calculate_average_cost(number))\n",
    "\n"
   ]
  },
  {
   "cell_type": "markdown",
   "metadata": {},
   "source": [
    "### Analyzing region "
   ]
  },
  {
   "cell_type": "code",
   "execution_count": 6,
   "metadata": {},
   "outputs": [
    {
     "name": "stdout",
     "output_type": "stream",
     "text": [
      "['southwest', 'southeast', 'northwest', 'northeast']\n",
      "There are 325 individuals who live in southwest.The average insurance cost of those individuals is 12346.94.\n",
      "There are 364 individuals who live in southeast.The average insurance cost of those individuals is 14735.41.\n",
      "There are 325 individuals who live in northwest.The average insurance cost of those individuals is 12417.58.\n",
      "There are 324 individuals who live in northeast.The average insurance cost of those individuals is 13406.38.\n"
     ]
    }
   ],
   "source": [
    "retrieve_data(region, \"insurance.csv\", \"region\")\n",
    "unique_region=[]\n",
    "\n",
    "for reg in region:\n",
    "    if reg not in unique_region:\n",
    "        unique_region.append(reg)\n",
    "def calculate_average_cost(region):\n",
    "    tot_cost=0\n",
    "    count_incidents=0\n",
    "    with open(\"insurance.csv\") as insurance_csv:\n",
    "        insurance_data=csv.DictReader(insurance_csv)\n",
    "        for row in insurance_data:\n",
    "            if row[\"region\"]==region:\n",
    "                tot_cost+=float(row[\"charges\"])\n",
    "                count_incidents+=1\n",
    "        to_print=\"There are {} individuals who live in {}.The average insurance cost of those individuals is {}.\"\\\n",
    "    .format(count_incidents, region, round(tot_cost/count_incidents, 2))\n",
    "    return to_print\n",
    "print(unique_region)\n",
    "for region in unique_region:\n",
    "    print(calculate_average_cost(region))"
   ]
  },
  {
   "cell_type": "markdown",
   "metadata": {},
   "source": [
    "### Studying the correlation between different features\n",
    " Studying the correlation between feature 1 and feature 2 when their values are value1 and value 2 correspondingly\n",
    " For example, if we want to know if there is a significant difference for a female smoker and a male smoker we can use calculate_average_cost(feature1=\"sex\", value1=\"female\", feature2=\"smoker\", value2=\"yes\", and compare it with\n",
    "calculate_average_cost(feature1=\"sex\", value1=\"male\", feature2=\"smoker\", value2=\"yes\". \n"
   ]
  },
  {
   "cell_type": "code",
   "execution_count": 7,
   "metadata": {},
   "outputs": [
    {
     "name": "stdout",
     "output_type": "stream",
     "text": [
      "There are 115 individuals with both sex=female and smoker=yes and the average insurance cost for them is 30679.0.\n",
      "There are 547 individuals with both sex=female and smoker=no and the average insurance cost for them is 8762.3.\n",
      "There are 159 individuals with both sex=male and smoker=yes and the average insurance cost for them is 33042.01.\n",
      "There are 517 individuals with both sex=male and smoker=no and the average insurance cost for them is 8087.2.\n"
     ]
    }
   ],
   "source": [
    "def calculate_average_cost(feature1, value1, feature2, value2):   \n",
    "    with open(\"insurance.csv\") as insurance_csv:\n",
    "        tot_cost=0\n",
    "        count_incidents=0\n",
    "        insurance_data=csv.DictReader(insurance_csv)\n",
    "        for row in insurance_data:\n",
    "            if row[feature1]==value1 and row[feature2]==value2:\n",
    "                tot_cost+=float(row[\"charges\"])\n",
    "                count_incidents+=1\n",
    "    return print(\"There are {} individuals with both {}={} and {}={} and the average insurance cost for them is {}.\"\\\n",
    "                .format(count_incidents, feature1, value1, feature2, value2, round(tot_cost/count_incidents,2)))\n",
    "calculate_average_cost(\"sex\", \"female\", \"smoker\", \"yes\")\n",
    "calculate_average_cost(\"sex\", \"female\", \"smoker\", \"no\")\n",
    "calculate_average_cost(\"sex\", \"male\", \"smoker\", \"yes\")\n",
    "calculate_average_cost(\"sex\", \"male\", \"smoker\", \"no\")              \n",
    "            "
   ]
  },
  {
   "cell_type": "code",
   "execution_count": null,
   "metadata": {},
   "outputs": [],
   "source": []
  }
 ],
 "metadata": {
  "kernelspec": {
   "display_name": "Python 3 (ipykernel)",
   "language": "python",
   "name": "python3"
  },
  "language_info": {
   "codemirror_mode": {
    "name": "ipython",
    "version": 3
   },
   "file_extension": ".py",
   "mimetype": "text/x-python",
   "name": "python",
   "nbconvert_exporter": "python",
   "pygments_lexer": "ipython3",
   "version": "3.11.5"
  }
 },
 "nbformat": 4,
 "nbformat_minor": 4
}
